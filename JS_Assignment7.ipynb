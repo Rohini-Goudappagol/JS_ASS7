{
  "nbformat": 4,
  "nbformat_minor": 0,
  "metadata": {
    "colab": {
      "provenance": []
    },
    "kernelspec": {
      "name": "python3",
      "display_name": "Python 3"
    },
    "language_info": {
      "name": "python"
    }
  },
  "cells": [
    {
      "cell_type": "code",
      "execution_count": null,
      "metadata": {
        "id": "MLllEAX6CdH6"
      },
      "outputs": [],
      "source": []
    },
    {
      "cell_type": "markdown",
      "source": [
        "1.  Understanding Arrow Functions & Lexical this\n",
        "\n",
        "Consider the following code and predict the output. Explain why the behavior occurs.\n",
        "\n",
        "    - const person = {\n",
        "    name : \"Alice\",\n",
        "    greet: function (){\n",
        "        setTimeout(() => {\n",
        "            console.log(\"Hello my name is \", this.name);\n",
        "        }, 1000);\n",
        "    }\n",
        "}\n",
        "\n",
        "const person1 = {\n",
        "    name : \"Alice\",\n",
        "    greet : ()=>{\n",
        "        setTimeout(()=>{\n",
        "            console.log(\"Hello my name is \", person1.name);\n",
        "        },1000);\n",
        "    }\n",
        "}\n",
        "\n",
        "person.greet();\n",
        "person1.greet();"
      ],
      "metadata": {
        "id": "dXiXblkiCkP8"
      }
    },
    {
      "cell_type": "markdown",
      "source": [
        "2. : Convert Traditional Functions to Arrow Functions\n",
        "\n",
        "Rewrite the following function using arrow functions without changing the behavior:\n",
        "    - /*\n",
        "3. convert traditional functions into arrow functions\n",
        "*/\n",
        "\n",
        "function multiply (a, b){\n",
        "    return a * b;\n",
        "}\n",
        "\n",
        "let multiply1 = (a, b) => a * b ;\n",
        "console.log(multiply1(2,5));\n",
        "\n",
        "const obj = {\n",
        "    value : 10,\n",
        "    add : function ( num){\n",
        "        return this.value + num;\n",
        "    }\n",
        "}\n",
        "\n",
        "const obj1  = {\n",
        "    value : 10,\n",
        "    add :(num) => obj1.value + num\n",
        "}\n",
        "\n",
        "console.log(obj1.add(8));\n"
      ],
      "metadata": {
        "id": "GxWvnfyYDvUV"
      }
    },
    {
      "cell_type": "markdown",
      "source": [
        "3.  Handling Errors in Async-Await (Try-Catch Required)\n",
        "\n",
        "Modify the following function to use async-await and proper error handling (try-catch)\n",
        "    - function fetchData(){\n",
        "    return new Promise ( (resolve,reject) => {\n",
        "        setTimeout(()=>{\n",
        "            let success = Math.random() > 0.5;\n",
        "            success ? resolve(\"Data recieved\") : reject(\"Error fetching data\");\n",
        "        }, 2000);\n",
        "    })\n",
        "}\n",
        " //fetchData().then((res) => console.log(res)).catch(console.error);\n",
        "\n",
        "\n",
        "async function data() {\n",
        "    try{\n",
        "        let data = await fetchData();\n",
        "        console.log(data);\n",
        "    }\n",
        "    catch(err){\n",
        "        console.log(err);\n",
        "    }\n",
        "}\n",
        "\n",
        "data();"
      ],
      "metadata": {
        "id": "osZmHXoUEPdI"
      }
    },
    {
      "cell_type": "markdown",
      "source": [
        "4. Async Function with Multiple Await Calls\n",
        "\n",
        "Write an async function that\n",
        " Fetches user data after 1 second\n",
        " Fetches order details after 2 seconds\n",
        " Fetches payment status after 3 seconds\n",
        " Logs the final \"Order completed\" message\n",
        "  Use await to ensure each step executes sequentially.\n",
        "\n",
        "      - function getDetails(message,time){\n",
        "    return new Promise ((resolve, reject)=>{\n",
        "        setTimeout(() => {\n",
        "        console.log(message);\n",
        "        resolve(\"Done\")\n",
        "    }, time);\n",
        "    })\n",
        "}\n",
        "\n",
        "async function details(){\n",
        "\n",
        "const p1 = await getDetails(\"User data fetched\",1000);\n",
        "console.log(p1);\n",
        "\n",
        "const p2 = await getDetails(\"Order details fetched\",2000);\n",
        "console.log(p2);\n",
        "\n",
        "const p3 = await getDetails(\"Payment status fetched\", 3000);\n",
        "console.log(p3);  \n",
        "\n",
        "console.log(\"Order completed\");\n",
        "\n",
        "}\n",
        "details();"
      ],
      "metadata": {
        "id": "uS-ncajBEZVt"
      }
    },
    {
      "cell_type": "markdown",
      "source": [
        "5. Handling Synchronous Errors with try-catch\n",
        "\n",
        "Write a function that\n",
        " Accepts a string inputs\n",
        " Converts it to a number and returns its square\n",
        " Uses try-catch to handle cases where the input is not a valid number\n",
        " If the error occurs, return \"Invalid Input\" instead of crashing.\n",
        "\n",
        "\n",
        "    - function square(num){\n",
        "    try{\n",
        "        let x = Number(num);\n",
        "        if(isNaN(x)){\n",
        "            throw new Error (\"Invalid Input\");\n",
        "        }\n",
        "        return x * x ;\n",
        "\n",
        "    }\n",
        "    catch (err){\n",
        "        return \"Invalid Input\";\n",
        "    }\n",
        "}\n",
        "\n",
        "console.log(square(\"200\"));\n",
        "console.log(square(\"abc\"));\n",
        "\n"
      ],
      "metadata": {
        "id": "MaedTD_cE6BH"
      }
    }
  ]
}